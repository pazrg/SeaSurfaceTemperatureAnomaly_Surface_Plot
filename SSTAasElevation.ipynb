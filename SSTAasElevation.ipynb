{
 "cells": [
  {
   "cell_type": "markdown",
   "id": "e02df99d",
   "metadata": {},
   "source": [
    "## Libraries"
   ]
  },
  {
   "cell_type": "code",
   "execution_count": null,
   "id": "88054412",
   "metadata": {},
   "outputs": [],
   "source": [
    "import plotly.graph_objects as go\n",
    "import numpy as np\n",
    "import netCDF4\n",
    "import xarray"
   ]
  },
  {
   "cell_type": "markdown",
   "id": "1a3a8fe7",
   "metadata": {},
   "source": [
    "## Functions"
   ]
  },
  {
   "cell_type": "code",
   "execution_count": null,
   "id": "375823e6",
   "metadata": {},
   "outputs": [],
   "source": [
    "def plot_surface(z,x,y,palette, title, variable, variable_units):\n",
    "    z_axis_title = '%s<br>(%s)'%(variable, variable_units)\n",
    "    fig = go.Figure(data=[go.Surface(\n",
    "        z=z, x=x, y=y, colorbar=dict(orientation='h', title=z_axis_title, x=0.5, y=0.85), \n",
    "        colorscale=palette)]\n",
    "    )\n",
    "    fig.update_layout(\n",
    "        title=title, autosize=False,\n",
    "        width=900, height=900,\n",
    "        margin=dict(l=65, r=50, b=65, t=90),\n",
    "    )\n",
    "    fig.update_layout(scene = dict(\n",
    "        xaxis_title='longitude',\n",
    "        yaxis_title='latitude',\n",
    "        zaxis_title= z_axis_title)\n",
    "    )\n",
    "    fig.update_layout()\n",
    "    return fig"
   ]
  },
  {
   "cell_type": "markdown",
   "id": "8322d914",
   "metadata": {},
   "source": [
    "## Data"
   ]
  },
  {
   "cell_type": "code",
   "execution_count": null,
   "id": "6986c127",
   "metadata": {},
   "outputs": [],
   "source": [
    "path = '20230820-GOS-L4UHRfnd-MED_NRTv1_anom.nc'\n",
    "ds = xarray.open_dataset(path)\n",
    "# Portal: Copernicus Marine Service (https://marine.copernicus.eu/)\n",
    "# Product: https://data.marine.copernicus.eu/product/SST_MED_SST_L4_NRT_OBSERVATIONS_010_004\n",
    "# Dataset: SST_MED_SSTA_L4_NRT_OBSERVATIONS_010_004_d"
   ]
  },
  {
   "cell_type": "markdown",
   "id": "3757b584",
   "metadata": {},
   "source": [
    "- bbox"
   ]
  },
  {
   "cell_type": "code",
   "execution_count": null,
   "id": "1eadc7ab",
   "metadata": {},
   "outputs": [],
   "source": [
    "bbox_limits = [-5.0,34.0,10.0,45.0] #http://bboxfinder.com/\n",
    "bbox_title = 'Western Mediterranean Sea' "
   ]
  },
  {
   "cell_type": "code",
   "execution_count": null,
   "id": "cbd6528b",
   "metadata": {},
   "outputs": [],
   "source": [
    "subset = ds.sel(\n",
    "    lat=slice(bbox_limits[1],bbox_limits[3]), \n",
    "    lon=slice(bbox_limits[0],bbox_limits[2])\n",
    ")"
   ]
  },
  {
   "cell_type": "markdown",
   "id": "9f2c4a32",
   "metadata": {},
   "source": [
    "- variable"
   ]
  },
  {
   "cell_type": "code",
   "execution_count": null,
   "id": "fc48cb19",
   "metadata": {},
   "outputs": [],
   "source": [
    "variable = 'sst_anomaly'"
   ]
  },
  {
   "cell_type": "code",
   "execution_count": null,
   "id": "e7ab31c1",
   "metadata": {},
   "outputs": [],
   "source": [
    "variable_name = subset[variable].attrs['long_name']\n",
    "variable_units = subset[variable].attrs['units']\n",
    "variable_valid_max = subset[variable].attrs['valid_max']\n",
    "variable_valid_min = subset[variable].attrs['valid_min']"
   ]
  },
  {
   "cell_type": "code",
   "execution_count": null,
   "id": "917cad11",
   "metadata": {},
   "outputs": [],
   "source": [
    "z = subset[variable].values[0]\n",
    "z[z < variable_valid_min] = np.nan\n",
    "z[z > variable_valid_max] = np.nan"
   ]
  },
  {
   "cell_type": "markdown",
   "id": "cebde013",
   "metadata": {},
   "source": [
    "- coordinates"
   ]
  },
  {
   "cell_type": "code",
   "execution_count": null,
   "id": "6bddb45e",
   "metadata": {},
   "outputs": [],
   "source": [
    "x = subset[variable].coords['lon'].values\n",
    "y = subset[variable].coords['lat'].values"
   ]
  },
  {
   "cell_type": "markdown",
   "id": "11f53058",
   "metadata": {},
   "source": [
    "## Visualization"
   ]
  },
  {
   "cell_type": "code",
   "execution_count": null,
   "id": "79881550",
   "metadata": {},
   "outputs": [],
   "source": [
    "title_top = '%s - %s (%s)'%(bbox_title, variable_name, path.split('-')[0])\n",
    "title_bottom =  'Data from Copernicus Marine Service'"
   ]
  },
  {
   "cell_type": "markdown",
   "id": "c0c49c9f",
   "metadata": {},
   "source": [
    "- Daily anomaly"
   ]
  },
  {
   "cell_type": "code",
   "execution_count": null,
   "id": "2b282100",
   "metadata": {
    "scrolled": false
   },
   "outputs": [],
   "source": [
    "title = '%s<br><sup>%s</sup>'%(title_top, title_bottom)\n",
    "palette = 'turbo'\n",
    "\n",
    "fig = plot_surface(z,x,y,palette, title, variable, variable_units)\n",
    "fig.show()"
   ]
  },
  {
   "cell_type": "markdown",
   "id": "370621be",
   "metadata": {},
   "source": [
    "- Daily anomaly (Extremes)"
   ]
  },
  {
   "cell_type": "code",
   "execution_count": null,
   "id": "bb9a15b7",
   "metadata": {},
   "outputs": [],
   "source": [
    "title = '%s | EXTREMES <br><sup>%s</sup>'%(title_top, title_bottom)\n",
    "palette = 'oxy_r'\n",
    "\n",
    "fig = plot_surface(z,x,y,palette, title, variable, variable_units)\n",
    "fig.show()"
   ]
  }
 ],
 "metadata": {
  "kernelspec": {
   "display_name": "Python 3 (ipykernel)",
   "language": "python",
   "name": "python3"
  },
  "language_info": {
   "codemirror_mode": {
    "name": "ipython",
    "version": 3
   },
   "file_extension": ".py",
   "mimetype": "text/x-python",
   "name": "python",
   "nbconvert_exporter": "python",
   "pygments_lexer": "ipython3",
   "version": "3.11.0"
  }
 },
 "nbformat": 4,
 "nbformat_minor": 5
}
